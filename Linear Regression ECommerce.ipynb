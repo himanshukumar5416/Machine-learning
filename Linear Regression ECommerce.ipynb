{
 "cells": [
  {
   "cell_type": "code",
   "execution_count": 32,
   "id": "035914c7",
   "metadata": {},
   "outputs": [],
   "source": [
    "import pandas as pd\n",
    "import numpy as np\n",
    "import matplotlib.pyplot as plt"
   ]
  },
  {
   "cell_type": "code",
   "execution_count": 33,
   "id": "ba46e008",
   "metadata": {},
   "outputs": [
    {
     "data": {
      "text/html": [
       "<div>\n",
       "<style scoped>\n",
       "    .dataframe tbody tr th:only-of-type {\n",
       "        vertical-align: middle;\n",
       "    }\n",
       "\n",
       "    .dataframe tbody tr th {\n",
       "        vertical-align: top;\n",
       "    }\n",
       "\n",
       "    .dataframe thead th {\n",
       "        text-align: right;\n",
       "    }\n",
       "</style>\n",
       "<table border=\"1\" class=\"dataframe\">\n",
       "  <thead>\n",
       "    <tr style=\"text-align: right;\">\n",
       "      <th></th>\n",
       "      <th>Email</th>\n",
       "      <th>Address</th>\n",
       "      <th>Avatar</th>\n",
       "      <th>Avg. Session Length</th>\n",
       "      <th>Time on App</th>\n",
       "      <th>Time on Website</th>\n",
       "      <th>Length of Membership</th>\n",
       "      <th>Yearly Amount Spent</th>\n",
       "    </tr>\n",
       "  </thead>\n",
       "  <tbody>\n",
       "    <tr>\n",
       "      <th>0</th>\n",
       "      <td>mstephenson@fernandez.com</td>\n",
       "      <td>835 Frank Tunnel\\nWrightmouth, MI 82180-9605</td>\n",
       "      <td>Violet</td>\n",
       "      <td>34.497268</td>\n",
       "      <td>12.655651</td>\n",
       "      <td>39.577668</td>\n",
       "      <td>4.082621</td>\n",
       "      <td>587.951054</td>\n",
       "    </tr>\n",
       "    <tr>\n",
       "      <th>1</th>\n",
       "      <td>hduke@hotmail.com</td>\n",
       "      <td>4547 Archer Common\\nDiazchester, CA 06566-8576</td>\n",
       "      <td>DarkGreen</td>\n",
       "      <td>31.926272</td>\n",
       "      <td>11.109461</td>\n",
       "      <td>37.268959</td>\n",
       "      <td>2.664034</td>\n",
       "      <td>392.204933</td>\n",
       "    </tr>\n",
       "    <tr>\n",
       "      <th>2</th>\n",
       "      <td>pallen@yahoo.com</td>\n",
       "      <td>24645 Valerie Unions Suite 582\\nCobbborough, D...</td>\n",
       "      <td>Bisque</td>\n",
       "      <td>33.000915</td>\n",
       "      <td>11.330278</td>\n",
       "      <td>37.110597</td>\n",
       "      <td>4.104543</td>\n",
       "      <td>487.547505</td>\n",
       "    </tr>\n",
       "    <tr>\n",
       "      <th>3</th>\n",
       "      <td>riverarebecca@gmail.com</td>\n",
       "      <td>1414 David Throughway\\nPort Jason, OH 22070-1220</td>\n",
       "      <td>SaddleBrown</td>\n",
       "      <td>34.305557</td>\n",
       "      <td>13.717514</td>\n",
       "      <td>36.721283</td>\n",
       "      <td>3.120179</td>\n",
       "      <td>581.852344</td>\n",
       "    </tr>\n",
       "    <tr>\n",
       "      <th>4</th>\n",
       "      <td>mstephens@davidson-herman.com</td>\n",
       "      <td>14023 Rodriguez Passage\\nPort Jacobville, PR 3...</td>\n",
       "      <td>MediumAquaMarine</td>\n",
       "      <td>33.330673</td>\n",
       "      <td>12.795189</td>\n",
       "      <td>37.536653</td>\n",
       "      <td>4.446308</td>\n",
       "      <td>599.406092</td>\n",
       "    </tr>\n",
       "    <tr>\n",
       "      <th>...</th>\n",
       "      <td>...</td>\n",
       "      <td>...</td>\n",
       "      <td>...</td>\n",
       "      <td>...</td>\n",
       "      <td>...</td>\n",
       "      <td>...</td>\n",
       "      <td>...</td>\n",
       "      <td>...</td>\n",
       "    </tr>\n",
       "    <tr>\n",
       "      <th>495</th>\n",
       "      <td>lewisjessica@craig-evans.com</td>\n",
       "      <td>4483 Jones Motorway Suite 872\\nLake Jamiefurt,...</td>\n",
       "      <td>Tan</td>\n",
       "      <td>33.237660</td>\n",
       "      <td>13.566160</td>\n",
       "      <td>36.417985</td>\n",
       "      <td>3.746573</td>\n",
       "      <td>573.847438</td>\n",
       "    </tr>\n",
       "    <tr>\n",
       "      <th>496</th>\n",
       "      <td>katrina56@gmail.com</td>\n",
       "      <td>172 Owen Divide Suite 497\\nWest Richard, CA 19320</td>\n",
       "      <td>PaleVioletRed</td>\n",
       "      <td>34.702529</td>\n",
       "      <td>11.695736</td>\n",
       "      <td>37.190268</td>\n",
       "      <td>3.576526</td>\n",
       "      <td>529.049004</td>\n",
       "    </tr>\n",
       "    <tr>\n",
       "      <th>497</th>\n",
       "      <td>dale88@hotmail.com</td>\n",
       "      <td>0787 Andrews Ranch Apt. 633\\nSouth Chadburgh, ...</td>\n",
       "      <td>Cornsilk</td>\n",
       "      <td>32.646777</td>\n",
       "      <td>11.499409</td>\n",
       "      <td>38.332576</td>\n",
       "      <td>4.958264</td>\n",
       "      <td>551.620145</td>\n",
       "    </tr>\n",
       "    <tr>\n",
       "      <th>498</th>\n",
       "      <td>cwilson@hotmail.com</td>\n",
       "      <td>680 Jennifer Lodge Apt. 808\\nBrendachester, TX...</td>\n",
       "      <td>Teal</td>\n",
       "      <td>33.322501</td>\n",
       "      <td>12.391423</td>\n",
       "      <td>36.840086</td>\n",
       "      <td>2.336485</td>\n",
       "      <td>456.469510</td>\n",
       "    </tr>\n",
       "    <tr>\n",
       "      <th>499</th>\n",
       "      <td>hannahwilson@davidson.com</td>\n",
       "      <td>49791 Rachel Heights Apt. 898\\nEast Drewboroug...</td>\n",
       "      <td>DarkMagenta</td>\n",
       "      <td>33.715981</td>\n",
       "      <td>12.418808</td>\n",
       "      <td>35.771016</td>\n",
       "      <td>2.735160</td>\n",
       "      <td>497.778642</td>\n",
       "    </tr>\n",
       "  </tbody>\n",
       "</table>\n",
       "<p>500 rows × 8 columns</p>\n",
       "</div>"
      ],
      "text/plain": [
       "                             Email  \\\n",
       "0        mstephenson@fernandez.com   \n",
       "1                hduke@hotmail.com   \n",
       "2                 pallen@yahoo.com   \n",
       "3          riverarebecca@gmail.com   \n",
       "4    mstephens@davidson-herman.com   \n",
       "..                             ...   \n",
       "495   lewisjessica@craig-evans.com   \n",
       "496            katrina56@gmail.com   \n",
       "497             dale88@hotmail.com   \n",
       "498            cwilson@hotmail.com   \n",
       "499      hannahwilson@davidson.com   \n",
       "\n",
       "                                               Address            Avatar  \\\n",
       "0         835 Frank Tunnel\\nWrightmouth, MI 82180-9605            Violet   \n",
       "1       4547 Archer Common\\nDiazchester, CA 06566-8576         DarkGreen   \n",
       "2    24645 Valerie Unions Suite 582\\nCobbborough, D...            Bisque   \n",
       "3     1414 David Throughway\\nPort Jason, OH 22070-1220       SaddleBrown   \n",
       "4    14023 Rodriguez Passage\\nPort Jacobville, PR 3...  MediumAquaMarine   \n",
       "..                                                 ...               ...   \n",
       "495  4483 Jones Motorway Suite 872\\nLake Jamiefurt,...               Tan   \n",
       "496  172 Owen Divide Suite 497\\nWest Richard, CA 19320     PaleVioletRed   \n",
       "497  0787 Andrews Ranch Apt. 633\\nSouth Chadburgh, ...          Cornsilk   \n",
       "498  680 Jennifer Lodge Apt. 808\\nBrendachester, TX...              Teal   \n",
       "499  49791 Rachel Heights Apt. 898\\nEast Drewboroug...       DarkMagenta   \n",
       "\n",
       "     Avg. Session Length  Time on App  Time on Website  Length of Membership  \\\n",
       "0              34.497268    12.655651        39.577668              4.082621   \n",
       "1              31.926272    11.109461        37.268959              2.664034   \n",
       "2              33.000915    11.330278        37.110597              4.104543   \n",
       "3              34.305557    13.717514        36.721283              3.120179   \n",
       "4              33.330673    12.795189        37.536653              4.446308   \n",
       "..                   ...          ...              ...                   ...   \n",
       "495            33.237660    13.566160        36.417985              3.746573   \n",
       "496            34.702529    11.695736        37.190268              3.576526   \n",
       "497            32.646777    11.499409        38.332576              4.958264   \n",
       "498            33.322501    12.391423        36.840086              2.336485   \n",
       "499            33.715981    12.418808        35.771016              2.735160   \n",
       "\n",
       "     Yearly Amount Spent  \n",
       "0             587.951054  \n",
       "1             392.204933  \n",
       "2             487.547505  \n",
       "3             581.852344  \n",
       "4             599.406092  \n",
       "..                   ...  \n",
       "495           573.847438  \n",
       "496           529.049004  \n",
       "497           551.620145  \n",
       "498           456.469510  \n",
       "499           497.778642  \n",
       "\n",
       "[500 rows x 8 columns]"
      ]
     },
     "execution_count": 33,
     "metadata": {},
     "output_type": "execute_result"
    }
   ],
   "source": [
    "df = pd.read_csv(\"C:\\\\Users\\\\himanshu\\\\Downloads\\\\Ecommerce Customers.csv\")\n",
    "df"
   ]
  },
  {
   "cell_type": "code",
   "execution_count": 34,
   "id": "f643d5a4",
   "metadata": {},
   "outputs": [
    {
     "data": {
      "text/html": [
       "<div>\n",
       "<style scoped>\n",
       "    .dataframe tbody tr th:only-of-type {\n",
       "        vertical-align: middle;\n",
       "    }\n",
       "\n",
       "    .dataframe tbody tr th {\n",
       "        vertical-align: top;\n",
       "    }\n",
       "\n",
       "    .dataframe thead th {\n",
       "        text-align: right;\n",
       "    }\n",
       "</style>\n",
       "<table border=\"1\" class=\"dataframe\">\n",
       "  <thead>\n",
       "    <tr style=\"text-align: right;\">\n",
       "      <th></th>\n",
       "      <th>Email</th>\n",
       "      <th>Address</th>\n",
       "      <th>Avatar</th>\n",
       "      <th>Avg. Session Length</th>\n",
       "      <th>Time on App</th>\n",
       "      <th>Time on Website</th>\n",
       "      <th>Length of Membership</th>\n",
       "      <th>Yearly Amount Spent</th>\n",
       "    </tr>\n",
       "  </thead>\n",
       "  <tbody>\n",
       "    <tr>\n",
       "      <th>298</th>\n",
       "      <td>bradleysmith@barber.com</td>\n",
       "      <td>581 Gilmore Port\\nHeatherville, MS 20879</td>\n",
       "      <td>PaleVioletRed</td>\n",
       "      <td>33.622592</td>\n",
       "      <td>11.167357</td>\n",
       "      <td>35.626587</td>\n",
       "      <td>5.462501</td>\n",
       "      <td>587.574799</td>\n",
       "    </tr>\n",
       "    <tr>\n",
       "      <th>200</th>\n",
       "      <td>jessica04@christian-riley.com</td>\n",
       "      <td>338 Graham Loaf Suite 236\\nEast Toddton, FM 43...</td>\n",
       "      <td>LemonChiffon</td>\n",
       "      <td>34.878495</td>\n",
       "      <td>13.067896</td>\n",
       "      <td>36.678222</td>\n",
       "      <td>1.920715</td>\n",
       "      <td>504.870432</td>\n",
       "    </tr>\n",
       "    <tr>\n",
       "      <th>62</th>\n",
       "      <td>ryan36@gmail.com</td>\n",
       "      <td>5379 Rhonda Prairie Apt. 696\\nBrownland, WA 87027</td>\n",
       "      <td>DarkTurquoise</td>\n",
       "      <td>32.227299</td>\n",
       "      <td>13.728627</td>\n",
       "      <td>37.997028</td>\n",
       "      <td>4.802631</td>\n",
       "      <td>613.599323</td>\n",
       "    </tr>\n",
       "    <tr>\n",
       "      <th>206</th>\n",
       "      <td>hevans@kelly-nunez.org</td>\n",
       "      <td>Unit 4065 Box 2267\\nDPO AE 69180-7372</td>\n",
       "      <td>Orchid</td>\n",
       "      <td>32.295248</td>\n",
       "      <td>11.031358</td>\n",
       "      <td>38.252978</td>\n",
       "      <td>3.107469</td>\n",
       "      <td>413.295999</td>\n",
       "    </tr>\n",
       "    <tr>\n",
       "      <th>76</th>\n",
       "      <td>david43@richards.com</td>\n",
       "      <td>967 Andrew Spurs\\nMathistown, CO 28230</td>\n",
       "      <td>Indigo</td>\n",
       "      <td>33.555207</td>\n",
       "      <td>11.551821</td>\n",
       "      <td>36.628834</td>\n",
       "      <td>2.837943</td>\n",
       "      <td>444.285907</td>\n",
       "    </tr>\n",
       "  </tbody>\n",
       "</table>\n",
       "</div>"
      ],
      "text/plain": [
       "                             Email  \\\n",
       "298        bradleysmith@barber.com   \n",
       "200  jessica04@christian-riley.com   \n",
       "62                ryan36@gmail.com   \n",
       "206         hevans@kelly-nunez.org   \n",
       "76            david43@richards.com   \n",
       "\n",
       "                                               Address         Avatar  \\\n",
       "298           581 Gilmore Port\\nHeatherville, MS 20879  PaleVioletRed   \n",
       "200  338 Graham Loaf Suite 236\\nEast Toddton, FM 43...   LemonChiffon   \n",
       "62   5379 Rhonda Prairie Apt. 696\\nBrownland, WA 87027  DarkTurquoise   \n",
       "206              Unit 4065 Box 2267\\nDPO AE 69180-7372         Orchid   \n",
       "76              967 Andrew Spurs\\nMathistown, CO 28230         Indigo   \n",
       "\n",
       "     Avg. Session Length  Time on App  Time on Website  Length of Membership  \\\n",
       "298            33.622592    11.167357        35.626587              5.462501   \n",
       "200            34.878495    13.067896        36.678222              1.920715   \n",
       "62             32.227299    13.728627        37.997028              4.802631   \n",
       "206            32.295248    11.031358        38.252978              3.107469   \n",
       "76             33.555207    11.551821        36.628834              2.837943   \n",
       "\n",
       "     Yearly Amount Spent  \n",
       "298           587.574799  \n",
       "200           504.870432  \n",
       "62            613.599323  \n",
       "206           413.295999  \n",
       "76            444.285907  "
      ]
     },
     "execution_count": 34,
     "metadata": {},
     "output_type": "execute_result"
    }
   ],
   "source": [
    "df.sample(5)"
   ]
  },
  {
   "cell_type": "code",
   "execution_count": 35,
   "id": "13cac6a6",
   "metadata": {},
   "outputs": [
    {
     "name": "stdout",
     "output_type": "stream",
     "text": [
      "<class 'pandas.core.frame.DataFrame'>\n",
      "RangeIndex: 500 entries, 0 to 499\n",
      "Data columns (total 8 columns):\n",
      " #   Column                Non-Null Count  Dtype  \n",
      "---  ------                --------------  -----  \n",
      " 0   Email                 500 non-null    object \n",
      " 1   Address               500 non-null    object \n",
      " 2   Avatar                500 non-null    object \n",
      " 3   Avg. Session Length   500 non-null    float64\n",
      " 4   Time on App           500 non-null    float64\n",
      " 5   Time on Website       500 non-null    float64\n",
      " 6   Length of Membership  500 non-null    float64\n",
      " 7   Yearly Amount Spent   500 non-null    float64\n",
      "dtypes: float64(5), object(3)\n",
      "memory usage: 31.4+ KB\n"
     ]
    }
   ],
   "source": [
    "df.info()"
   ]
  },
  {
   "cell_type": "code",
   "execution_count": 36,
   "id": "1ecb4769",
   "metadata": {},
   "outputs": [
    {
     "data": {
      "text/html": [
       "<div>\n",
       "<style scoped>\n",
       "    .dataframe tbody tr th:only-of-type {\n",
       "        vertical-align: middle;\n",
       "    }\n",
       "\n",
       "    .dataframe tbody tr th {\n",
       "        vertical-align: top;\n",
       "    }\n",
       "\n",
       "    .dataframe thead th {\n",
       "        text-align: right;\n",
       "    }\n",
       "</style>\n",
       "<table border=\"1\" class=\"dataframe\">\n",
       "  <thead>\n",
       "    <tr style=\"text-align: right;\">\n",
       "      <th></th>\n",
       "      <th>Avg. Session Length</th>\n",
       "      <th>Time on App</th>\n",
       "      <th>Time on Website</th>\n",
       "      <th>Length of Membership</th>\n",
       "      <th>Yearly Amount Spent</th>\n",
       "    </tr>\n",
       "  </thead>\n",
       "  <tbody>\n",
       "    <tr>\n",
       "      <th>count</th>\n",
       "      <td>500.000000</td>\n",
       "      <td>500.000000</td>\n",
       "      <td>500.000000</td>\n",
       "      <td>500.000000</td>\n",
       "      <td>500.000000</td>\n",
       "    </tr>\n",
       "    <tr>\n",
       "      <th>mean</th>\n",
       "      <td>33.053194</td>\n",
       "      <td>12.052488</td>\n",
       "      <td>37.060445</td>\n",
       "      <td>3.533462</td>\n",
       "      <td>499.314038</td>\n",
       "    </tr>\n",
       "    <tr>\n",
       "      <th>std</th>\n",
       "      <td>0.992563</td>\n",
       "      <td>0.994216</td>\n",
       "      <td>1.010489</td>\n",
       "      <td>0.999278</td>\n",
       "      <td>79.314782</td>\n",
       "    </tr>\n",
       "    <tr>\n",
       "      <th>min</th>\n",
       "      <td>29.532429</td>\n",
       "      <td>8.508152</td>\n",
       "      <td>33.913847</td>\n",
       "      <td>0.269901</td>\n",
       "      <td>256.670582</td>\n",
       "    </tr>\n",
       "    <tr>\n",
       "      <th>25%</th>\n",
       "      <td>32.341822</td>\n",
       "      <td>11.388153</td>\n",
       "      <td>36.349257</td>\n",
       "      <td>2.930450</td>\n",
       "      <td>445.038277</td>\n",
       "    </tr>\n",
       "    <tr>\n",
       "      <th>50%</th>\n",
       "      <td>33.082008</td>\n",
       "      <td>11.983231</td>\n",
       "      <td>37.069367</td>\n",
       "      <td>3.533975</td>\n",
       "      <td>498.887875</td>\n",
       "    </tr>\n",
       "    <tr>\n",
       "      <th>75%</th>\n",
       "      <td>33.711985</td>\n",
       "      <td>12.753850</td>\n",
       "      <td>37.716432</td>\n",
       "      <td>4.126502</td>\n",
       "      <td>549.313828</td>\n",
       "    </tr>\n",
       "    <tr>\n",
       "      <th>max</th>\n",
       "      <td>36.139662</td>\n",
       "      <td>15.126994</td>\n",
       "      <td>40.005182</td>\n",
       "      <td>6.922689</td>\n",
       "      <td>765.518462</td>\n",
       "    </tr>\n",
       "  </tbody>\n",
       "</table>\n",
       "</div>"
      ],
      "text/plain": [
       "       Avg. Session Length  Time on App  Time on Website  \\\n",
       "count           500.000000   500.000000       500.000000   \n",
       "mean             33.053194    12.052488        37.060445   \n",
       "std               0.992563     0.994216         1.010489   \n",
       "min              29.532429     8.508152        33.913847   \n",
       "25%              32.341822    11.388153        36.349257   \n",
       "50%              33.082008    11.983231        37.069367   \n",
       "75%              33.711985    12.753850        37.716432   \n",
       "max              36.139662    15.126994        40.005182   \n",
       "\n",
       "       Length of Membership  Yearly Amount Spent  \n",
       "count            500.000000           500.000000  \n",
       "mean               3.533462           499.314038  \n",
       "std                0.999278            79.314782  \n",
       "min                0.269901           256.670582  \n",
       "25%                2.930450           445.038277  \n",
       "50%                3.533975           498.887875  \n",
       "75%                4.126502           549.313828  \n",
       "max                6.922689           765.518462  "
      ]
     },
     "execution_count": 36,
     "metadata": {},
     "output_type": "execute_result"
    }
   ],
   "source": [
    "df.describe()"
   ]
  },
  {
   "cell_type": "code",
   "execution_count": 37,
   "id": "ee37c231",
   "metadata": {},
   "outputs": [],
   "source": [
    "# Training Testing Data\n",
    "# we plan to apply simple linear regression to predict yearly Amount spent using the information on Avg.Session length.\n",
    "# for this purpose we use yearly Amount spent as our dependent variable."
   ]
  },
  {
   "cell_type": "code",
   "execution_count": 38,
   "id": "fd9d397b",
   "metadata": {},
   "outputs": [],
   "source": [
    "x = df[[\"Avg. Session Length\"]]\n",
    "y = df[\"Yearly Amount Spent\"]"
   ]
  },
  {
   "cell_type": "code",
   "execution_count": 39,
   "id": "74d0745c",
   "metadata": {},
   "outputs": [
    {
     "data": {
      "text/html": [
       "<div>\n",
       "<style scoped>\n",
       "    .dataframe tbody tr th:only-of-type {\n",
       "        vertical-align: middle;\n",
       "    }\n",
       "\n",
       "    .dataframe tbody tr th {\n",
       "        vertical-align: top;\n",
       "    }\n",
       "\n",
       "    .dataframe thead th {\n",
       "        text-align: right;\n",
       "    }\n",
       "</style>\n",
       "<table border=\"1\" class=\"dataframe\">\n",
       "  <thead>\n",
       "    <tr style=\"text-align: right;\">\n",
       "      <th></th>\n",
       "      <th>Avg. Session Length</th>\n",
       "    </tr>\n",
       "  </thead>\n",
       "  <tbody>\n",
       "    <tr>\n",
       "      <th>0</th>\n",
       "      <td>34.497268</td>\n",
       "    </tr>\n",
       "    <tr>\n",
       "      <th>1</th>\n",
       "      <td>31.926272</td>\n",
       "    </tr>\n",
       "    <tr>\n",
       "      <th>2</th>\n",
       "      <td>33.000915</td>\n",
       "    </tr>\n",
       "    <tr>\n",
       "      <th>3</th>\n",
       "      <td>34.305557</td>\n",
       "    </tr>\n",
       "    <tr>\n",
       "      <th>4</th>\n",
       "      <td>33.330673</td>\n",
       "    </tr>\n",
       "  </tbody>\n",
       "</table>\n",
       "</div>"
      ],
      "text/plain": [
       "   Avg. Session Length\n",
       "0            34.497268\n",
       "1            31.926272\n",
       "2            33.000915\n",
       "3            34.305557\n",
       "4            33.330673"
      ]
     },
     "execution_count": 39,
     "metadata": {},
     "output_type": "execute_result"
    }
   ],
   "source": [
    "x.head()"
   ]
  },
  {
   "cell_type": "code",
   "execution_count": 40,
   "id": "27904c7d",
   "metadata": {},
   "outputs": [
    {
     "data": {
      "text/plain": [
       "0    587.951054\n",
       "1    392.204933\n",
       "2    487.547505\n",
       "3    581.852344\n",
       "4    599.406092\n",
       "Name: Yearly Amount Spent, dtype: float64"
      ]
     },
     "execution_count": 40,
     "metadata": {},
     "output_type": "execute_result"
    }
   ],
   "source": [
    "y.head()"
   ]
  },
  {
   "cell_type": "code",
   "execution_count": 41,
   "id": "4becabfa",
   "metadata": {},
   "outputs": [],
   "source": [
    "from sklearn.model_selection import train_test_split\n",
    "x_train,x_test,y_train,y_test= train_test_split(x,y,test_size=0.3,random_state=10)"
   ]
  },
  {
   "cell_type": "code",
   "execution_count": 42,
   "id": "54ca38fd",
   "metadata": {},
   "outputs": [],
   "source": [
    "from sklearn.linear_model import LinearRegression\n",
    "lr = LinearRegression()"
   ]
  },
  {
   "cell_type": "code",
   "execution_count": 43,
   "id": "ec29012c",
   "metadata": {},
   "outputs": [
    {
     "data": {
      "text/html": [
       "<style>#sk-container-id-3 {color: black;background-color: white;}#sk-container-id-3 pre{padding: 0;}#sk-container-id-3 div.sk-toggleable {background-color: white;}#sk-container-id-3 label.sk-toggleable__label {cursor: pointer;display: block;width: 100%;margin-bottom: 0;padding: 0.3em;box-sizing: border-box;text-align: center;}#sk-container-id-3 label.sk-toggleable__label-arrow:before {content: \"▸\";float: left;margin-right: 0.25em;color: #696969;}#sk-container-id-3 label.sk-toggleable__label-arrow:hover:before {color: black;}#sk-container-id-3 div.sk-estimator:hover label.sk-toggleable__label-arrow:before {color: black;}#sk-container-id-3 div.sk-toggleable__content {max-height: 0;max-width: 0;overflow: hidden;text-align: left;background-color: #f0f8ff;}#sk-container-id-3 div.sk-toggleable__content pre {margin: 0.2em;color: black;border-radius: 0.25em;background-color: #f0f8ff;}#sk-container-id-3 input.sk-toggleable__control:checked~div.sk-toggleable__content {max-height: 200px;max-width: 100%;overflow: auto;}#sk-container-id-3 input.sk-toggleable__control:checked~label.sk-toggleable__label-arrow:before {content: \"▾\";}#sk-container-id-3 div.sk-estimator input.sk-toggleable__control:checked~label.sk-toggleable__label {background-color: #d4ebff;}#sk-container-id-3 div.sk-label input.sk-toggleable__control:checked~label.sk-toggleable__label {background-color: #d4ebff;}#sk-container-id-3 input.sk-hidden--visually {border: 0;clip: rect(1px 1px 1px 1px);clip: rect(1px, 1px, 1px, 1px);height: 1px;margin: -1px;overflow: hidden;padding: 0;position: absolute;width: 1px;}#sk-container-id-3 div.sk-estimator {font-family: monospace;background-color: #f0f8ff;border: 1px dotted black;border-radius: 0.25em;box-sizing: border-box;margin-bottom: 0.5em;}#sk-container-id-3 div.sk-estimator:hover {background-color: #d4ebff;}#sk-container-id-3 div.sk-parallel-item::after {content: \"\";width: 100%;border-bottom: 1px solid gray;flex-grow: 1;}#sk-container-id-3 div.sk-label:hover label.sk-toggleable__label {background-color: #d4ebff;}#sk-container-id-3 div.sk-serial::before {content: \"\";position: absolute;border-left: 1px solid gray;box-sizing: border-box;top: 0;bottom: 0;left: 50%;z-index: 0;}#sk-container-id-3 div.sk-serial {display: flex;flex-direction: column;align-items: center;background-color: white;padding-right: 0.2em;padding-left: 0.2em;position: relative;}#sk-container-id-3 div.sk-item {position: relative;z-index: 1;}#sk-container-id-3 div.sk-parallel {display: flex;align-items: stretch;justify-content: center;background-color: white;position: relative;}#sk-container-id-3 div.sk-item::before, #sk-container-id-3 div.sk-parallel-item::before {content: \"\";position: absolute;border-left: 1px solid gray;box-sizing: border-box;top: 0;bottom: 0;left: 50%;z-index: -1;}#sk-container-id-3 div.sk-parallel-item {display: flex;flex-direction: column;z-index: 1;position: relative;background-color: white;}#sk-container-id-3 div.sk-parallel-item:first-child::after {align-self: flex-end;width: 50%;}#sk-container-id-3 div.sk-parallel-item:last-child::after {align-self: flex-start;width: 50%;}#sk-container-id-3 div.sk-parallel-item:only-child::after {width: 0;}#sk-container-id-3 div.sk-dashed-wrapped {border: 1px dashed gray;margin: 0 0.4em 0.5em 0.4em;box-sizing: border-box;padding-bottom: 0.4em;background-color: white;}#sk-container-id-3 div.sk-label label {font-family: monospace;font-weight: bold;display: inline-block;line-height: 1.2em;}#sk-container-id-3 div.sk-label-container {text-align: center;}#sk-container-id-3 div.sk-container {/* jupyter's `normalize.less` sets `[hidden] { display: none; }` but bootstrap.min.css set `[hidden] { display: none !important; }` so we also need the `!important` here to be able to override the default hidden behavior on the sphinx rendered scikit-learn.org. See: https://github.com/scikit-learn/scikit-learn/issues/21755 */display: inline-block !important;position: relative;}#sk-container-id-3 div.sk-text-repr-fallback {display: none;}</style><div id=\"sk-container-id-3\" class=\"sk-top-container\"><div class=\"sk-text-repr-fallback\"><pre>LinearRegression()</pre><b>In a Jupyter environment, please rerun this cell to show the HTML representation or trust the notebook. <br />On GitHub, the HTML representation is unable to render, please try loading this page with nbviewer.org.</b></div><div class=\"sk-container\" hidden><div class=\"sk-item\"><div class=\"sk-estimator sk-toggleable\"><input class=\"sk-toggleable__control sk-hidden--visually\" id=\"sk-estimator-id-3\" type=\"checkbox\" checked><label for=\"sk-estimator-id-3\" class=\"sk-toggleable__label sk-toggleable__label-arrow\">LinearRegression</label><div class=\"sk-toggleable__content\"><pre>LinearRegression()</pre></div></div></div></div></div>"
      ],
      "text/plain": [
       "LinearRegression()"
      ]
     },
     "execution_count": 43,
     "metadata": {},
     "output_type": "execute_result"
    }
   ],
   "source": [
    "lr.fit(x,y)"
   ]
  },
  {
   "cell_type": "code",
   "execution_count": 44,
   "id": "ee5ec4c8",
   "metadata": {},
   "outputs": [
    {
     "name": "stdout",
     "output_type": "stream",
     "text": [
      "[494.60130461 536.68739989 586.89188708 546.41964713 481.90829387\n",
      " 504.85599088 541.93547091 504.54823191 543.29826951 459.6352176\n",
      " 513.47063251 483.90723236 502.18162772 461.95701187 474.81671448\n",
      " 534.07467468 494.79640886 490.05226004 510.84627706 495.06522324\n",
      " 530.16308623 468.50265324 517.69215073 489.10042669 537.12701721\n",
      " 491.32715017 479.40302572 523.18990013 437.63553922 478.01478872\n",
      " 457.234461   440.2514462  497.82879273 508.28578375 483.57170298\n",
      " 478.86841433 484.49207743 524.07390211 486.67901402 477.14354644\n",
      " 477.62077115 578.96323915 495.85637168 503.24046427 540.58109805\n",
      " 515.28406947 502.69453954 536.79894109 523.05655625 506.95557772\n",
      " 497.73258416 498.55435583 497.59395055 466.73025677 497.1007887\n",
      " 469.77894532 523.58500868 490.40292512 468.15032112 502.22262773\n",
      " 481.50897648 480.38972162 480.24168293 444.68966907 510.06915108\n",
      " 513.10993196 470.78664309 535.22894782 495.60878241 535.68115922\n",
      " 528.55338191 520.83743353 522.76836173 501.27775585 470.04268124\n",
      " 448.45093843 523.73965361 509.10522418 472.90198685 531.72695045\n",
      " 523.8766771  485.05097907 468.18995228 488.5872681  509.69562416\n",
      " 467.33789951 517.52224578 499.97636468 525.96870912 543.03466874\n",
      " 539.86710512 527.50279827 512.09720326 572.45455902 508.75706748\n",
      " 505.07814452 500.87869774 492.70602032 486.37483479 549.30443733\n",
      " 506.39293884 471.23950406 506.44016609 468.76254098 486.71816882\n",
      " 493.20493697 519.94145353 555.61685954 539.27482977 481.65257127\n",
      " 484.560476   511.58119625 477.93233335 541.02001665 495.10035438\n",
      " 501.89729104 513.1619987  513.87826521 527.62505751 435.83987889\n",
      " 449.82841354 471.6700333  521.25223303 497.23801747 531.86971465\n",
      " 511.40958107 509.43614376 484.66077839 515.54763454 502.179387\n",
      " 477.46346574 513.59682386 520.36617185 506.56033319 455.66071191\n",
      " 476.8065956  473.65947195 472.73274057 481.02268051 488.0797594\n",
      " 497.53793439 488.9582622  493.98337387 500.03826729 565.10612426\n",
      " 399.41315199 531.39532002 517.67838664 516.70200696 540.40707145]\n"
     ]
    }
   ],
   "source": [
    "pred = lr.predict(x_test)\n",
    "print(pred)"
   ]
  },
  {
   "cell_type": "code",
   "execution_count": 45,
   "id": "0c6fb374",
   "metadata": {},
   "outputs": [],
   "source": [
    "# predicting The result"
   ]
  },
  {
   "cell_type": "code",
   "execution_count": 46,
   "id": "49ad7cb5",
   "metadata": {},
   "outputs": [
    {
     "data": {
      "text/plain": [
       "Text(0, 0.5, 'predicted')"
      ]
     },
     "execution_count": 46,
     "metadata": {},
     "output_type": "execute_result"
    },
    {
     "data": {
      "image/png": "[encoded data removed]",
      "text/plain": [
       "<Figure size 640x480 with 1 Axes>"
      ]
     },
     "metadata": {},
     "output_type": "display_data"
    }
   ],
   "source": [
    "plt.scatter(y_test,pred)\n",
    "plt.xlabel(\"y test\")\n",
    "plt.ylabel(\"predicted\")"
   ]
  },
  {
   "cell_type": "code",
   "execution_count": 47,
   "id": "d1420e10",
   "metadata": {},
   "outputs": [
    {
     "name": "stdout",
     "output_type": "stream",
     "text": [
      "MAE: 62.269726036446855\n",
      "MSE: 6343.536174787876\n",
      "RMSE: 79.64631927959933\n"
     ]
    }
   ],
   "source": [
    "# Errors\n",
    "from sklearn import metrics\n",
    "print(\"MAE:\",metrics.mean_absolute_error(y_test,pred))\n",
    "print(\"MSE:\",metrics.mean_squared_error(y_test,pred))\n",
    "print(\"RMSE:\",np.sqrt(metrics.mean_squared_error(y_test,pred)))"
   ]
  },
  {
   "cell_type": "code",
   "execution_count": 18,
   "id": "238c2847",
   "metadata": {},
   "outputs": [],
   "source": [
    "# Multiple Linear Regression."
   ]
  },
  {
   "cell_type": "code",
   "execution_count": 19,
   "id": "1af02e0a",
   "metadata": {},
   "outputs": [],
   "source": [
    "x2 = df.drop([\"Email\",\"Address\",\"Avatar\",\"Yearly Amount Spent\"],axis=1)\n",
    "y2 = df[\"Yearly Amount Spent\"]\n",
    "x2_train,x2_test,y2_train,y2_test = train_test_split(x2,y2,test_size=0.3,random_state = 10)"
   ]
  },
  {
   "cell_type": "code",
   "execution_count": 20,
   "id": "ad4ff544",
   "metadata": {},
   "outputs": [],
   "source": [
    "from sklearn.linear_model import LinearRegression\n",
    "lr = LinearRegression()"
   ]
  },
  {
   "cell_type": "code",
   "execution_count": 21,
   "id": "ad3a2877",
   "metadata": {},
   "outputs": [
    {
     "data": {
      "text/html": [
       "<style>#sk-container-id-2 {color: black;background-color: white;}#sk-container-id-2 pre{padding: 0;}#sk-container-id-2 div.sk-toggleable {background-color: white;}#sk-container-id-2 label.sk-toggleable__label {cursor: pointer;display: block;width: 100%;margin-bottom: 0;padding: 0.3em;box-sizing: border-box;text-align: center;}#sk-container-id-2 label.sk-toggleable__label-arrow:before {content: \"▸\";float: left;margin-right: 0.25em;color: #696969;}#sk-container-id-2 label.sk-toggleable__label-arrow:hover:before {color: black;}#sk-container-id-2 div.sk-estimator:hover label.sk-toggleable__label-arrow:before {color: black;}#sk-container-id-2 div.sk-toggleable__content {max-height: 0;max-width: 0;overflow: hidden;text-align: left;background-color: #f0f8ff;}#sk-container-id-2 div.sk-toggleable__content pre {margin: 0.2em;color: black;border-radius: 0.25em;background-color: #f0f8ff;}#sk-container-id-2 input.sk-toggleable__control:checked~div.sk-toggleable__content {max-height: 200px;max-width: 100%;overflow: auto;}#sk-container-id-2 input.sk-toggleable__control:checked~label.sk-toggleable__label-arrow:before {content: \"▾\";}#sk-container-id-2 div.sk-estimator input.sk-toggleable__control:checked~label.sk-toggleable__label {background-color: #d4ebff;}#sk-container-id-2 div.sk-label input.sk-toggleable__control:checked~label.sk-toggleable__label {background-color: #d4ebff;}#sk-container-id-2 input.sk-hidden--visually {border: 0;clip: rect(1px 1px 1px 1px);clip: rect(1px, 1px, 1px, 1px);height: 1px;margin: -1px;overflow: hidden;padding: 0;position: absolute;width: 1px;}#sk-container-id-2 div.sk-estimator {font-family: monospace;background-color: #f0f8ff;border: 1px dotted black;border-radius: 0.25em;box-sizing: border-box;margin-bottom: 0.5em;}#sk-container-id-2 div.sk-estimator:hover {background-color: #d4ebff;}#sk-container-id-2 div.sk-parallel-item::after {content: \"\";width: 100%;border-bottom: 1px solid gray;flex-grow: 1;}#sk-container-id-2 div.sk-label:hover label.sk-toggleable__label {background-color: #d4ebff;}#sk-container-id-2 div.sk-serial::before {content: \"\";position: absolute;border-left: 1px solid gray;box-sizing: border-box;top: 0;bottom: 0;left: 50%;z-index: 0;}#sk-container-id-2 div.sk-serial {display: flex;flex-direction: column;align-items: center;background-color: white;padding-right: 0.2em;padding-left: 0.2em;position: relative;}#sk-container-id-2 div.sk-item {position: relative;z-index: 1;}#sk-container-id-2 div.sk-parallel {display: flex;align-items: stretch;justify-content: center;background-color: white;position: relative;}#sk-container-id-2 div.sk-item::before, #sk-container-id-2 div.sk-parallel-item::before {content: \"\";position: absolute;border-left: 1px solid gray;box-sizing: border-box;top: 0;bottom: 0;left: 50%;z-index: -1;}#sk-container-id-2 div.sk-parallel-item {display: flex;flex-direction: column;z-index: 1;position: relative;background-color: white;}#sk-container-id-2 div.sk-parallel-item:first-child::after {align-self: flex-end;width: 50%;}#sk-container-id-2 div.sk-parallel-item:last-child::after {align-self: flex-start;width: 50%;}#sk-container-id-2 div.sk-parallel-item:only-child::after {width: 0;}#sk-container-id-2 div.sk-dashed-wrapped {border: 1px dashed gray;margin: 0 0.4em 0.5em 0.4em;box-sizing: border-box;padding-bottom: 0.4em;background-color: white;}#sk-container-id-2 div.sk-label label {font-family: monospace;font-weight: bold;display: inline-block;line-height: 1.2em;}#sk-container-id-2 div.sk-label-container {text-align: center;}#sk-container-id-2 div.sk-container {/* jupyter's `normalize.less` sets `[hidden] { display: none; }` but bootstrap.min.css set `[hidden] { display: none !important; }` so we also need the `!important` here to be able to override the default hidden behavior on the sphinx rendered scikit-learn.org. See: https://github.com/scikit-learn/scikit-learn/issues/21755 */display: inline-block !important;position: relative;}#sk-container-id-2 div.sk-text-repr-fallback {display: none;}</style><div id=\"sk-container-id-2\" class=\"sk-top-container\"><div class=\"sk-text-repr-fallback\"><pre>LinearRegression()</pre><b>In a Jupyter environment, please rerun this cell to show the HTML representation or trust the notebook. <br />On GitHub, the HTML representation is unable to render, please try loading this page with nbviewer.org.</b></div><div class=\"sk-container\" hidden><div class=\"sk-item\"><div class=\"sk-estimator sk-toggleable\"><input class=\"sk-toggleable__control sk-hidden--visually\" id=\"sk-estimator-id-2\" type=\"checkbox\" checked><label for=\"sk-estimator-id-2\" class=\"sk-toggleable__label sk-toggleable__label-arrow\">LinearRegression</label><div class=\"sk-toggleable__content\"><pre>LinearRegression()</pre></div></div></div></div></div>"
      ],
      "text/plain": [
       "LinearRegression()"
      ]
     },
     "execution_count": 21,
     "metadata": {},
     "output_type": "execute_result"
    }
   ],
   "source": [
    "lr.fit(x2,y2)"
   ]
  },
  {
   "cell_type": "code",
   "execution_count": 22,
   "id": "711765ec",
   "metadata": {},
   "outputs": [
    {
     "name": "stdout",
     "output_type": "stream",
     "text": [
      "[684.74700971 497.20603506 599.01875647 609.43106608 584.13766535\n",
      " 478.32069802 543.18101804 575.49634125 752.52310497 468.66250092\n",
      " 506.42194196 558.55900616 553.01335985 494.55896904 530.32620603\n",
      " 434.41912453 543.25008271 562.58575782 421.91701297 409.15448373\n",
      " 543.20039152 450.16497713 499.8346311  507.31724858 693.23696437\n",
      " 434.94041679 528.00761497 465.77732178 494.03711252 477.64548274\n",
      " 563.61940427 487.86923804 481.41559016 508.40032412 515.66608051\n",
      " 538.29277987 422.10498629 471.97510688 510.31238521 507.33984105\n",
      " 502.55727882 551.79570316 642.08284699 434.21171863 703.2805619\n",
      " 606.79610187 657.49046837 765.92136679 576.72535664 445.56148747\n",
      " 473.85824734 503.86180474 601.49909575 491.16614503 551.77030065\n",
      " 489.32926191 429.28336423 558.43069206 431.78042946 556.22982647\n",
      " 401.74601289 421.10472607 546.29329303 564.67138114 472.02824618\n",
      " 371.85714958 480.83389699 588.71131759 411.76067965 518.5918905\n",
      " 315.4499197  532.31652489 606.26705775 458.52127925 516.95194236\n",
      " 422.17878521 498.13538839 505.49039335 532.35651023 601.44849408\n",
      " 574.73279528 519.71974418 564.9947242  451.60883204 593.63873485\n",
      " 380.36380488 511.96054936 500.32296325 508.6505773  472.65793552\n",
      " 671.60381675 572.49299408 365.50746408 598.86435708 516.6991179\n",
      " 725.20066304 598.32390092 512.81714725 499.01512976 599.44284763\n",
      " 685.05480967 389.96734985 548.77534982 325.41823125 452.11437396\n",
      " 431.83265885 518.95992028 531.55735138 580.95937962 408.25429025\n",
      " 676.63794206 483.40628414 537.98891092 543.07506653 347.72710169\n",
      " 407.10960752 608.55287088 458.04357262 432.65667658 283.10828346\n",
      " 429.78392926 352.64606486 488.40839977 395.74624311 563.19990352\n",
      " 573.30278627 431.96947558 486.63338038 578.24422968 437.83934106\n",
      " 511.88708708 536.24979797 565.49093288 380.1751686  495.29912526\n",
      " 573.49280939 398.58130137 460.64963219 439.80358558 520.53749359\n",
      " 395.53305892 523.92502593 486.8452055  552.96739799 542.548675\n",
      " 398.21463388 623.21313089 533.98543764 499.78903985 581.32771344]\n"
     ]
    }
   ],
   "source": [
    "pred2 = lr.predict(x2_test)\n",
    "print(pred2)"
   ]
  },
  {
   "cell_type": "code",
   "execution_count": 23,
   "id": "df4b348c",
   "metadata": {},
   "outputs": [
    {
     "data": {
      "text/plain": [
       "Text(0, 0.5, 'predicted y2')"
      ]
     },
     "execution_count": 23,
     "metadata": {},
     "output_type": "execute_result"
    },
    {
     "data": {
      "image/png": "[encoded data removed]",
      "text/plain": [
       "<Figure size 640x480 with 1 Axes>"
      ]
     },
     "metadata": {},
     "output_type": "display_data"
    }
   ],
   "source": [
    "plt.scatter(y2_test,pred2)\n",
    "plt.xlabel(\"y2 test\")\n",
    "plt.ylabel(\"predicted y2\")"
   ]
  },
  {
   "cell_type": "code",
   "execution_count": 24,
   "id": "32e3b2ef",
   "metadata": {},
   "outputs": [
    {
     "name": "stdout",
     "output_type": "stream",
     "text": [
      "MEA: 7.757083595887601\n",
      "MSE: 91.36383402438273\n",
      "RMSE: 9.55844307533307\n"
     ]
    }
   ],
   "source": [
    "from sklearn import metrics\n",
    "print(\"MEA:\",metrics.mean_absolute_error(y2_test,pred2))\n",
    "print(\"MSE:\",metrics.mean_squared_error(y2_test,pred2))\n",
    "print(\"RMSE:\",np.sqrt(metrics.mean_squared_error(y2_test,pred2)))"
   ]
  },
  {
   "cell_type": "code",
   "execution_count": 48,
   "id": "b3a45bad",
   "metadata": {},
   "outputs": [
    {
     "name": "stdout",
     "output_type": "stream",
     "text": [
      "[28.37477054]\n",
      "-438.56274350445204\n"
     ]
    }
   ],
   "source": [
    "m = lr.coef_\n",
    "b = lr.intercept_\n",
    "print(m)\n",
    "print(b)"
   ]
  },
  {
   "cell_type": "code",
   "execution_count": 26,
   "id": "1738b11e",
   "metadata": {},
   "outputs": [
    {
     "data": {
      "text/html": [
       "<div>\n",
       "<style scoped>\n",
       "    .dataframe tbody tr th:only-of-type {\n",
       "        vertical-align: middle;\n",
       "    }\n",
       "\n",
       "    .dataframe tbody tr th {\n",
       "        vertical-align: top;\n",
       "    }\n",
       "\n",
       "    .dataframe thead th {\n",
       "        text-align: right;\n",
       "    }\n",
       "</style>\n",
       "<table border=\"1\" class=\"dataframe\">\n",
       "  <thead>\n",
       "    <tr style=\"text-align: right;\">\n",
       "      <th></th>\n",
       "      <th>Avg. Session Length</th>\n",
       "    </tr>\n",
       "  </thead>\n",
       "  <tbody>\n",
       "    <tr>\n",
       "      <th>151</th>\n",
       "      <td>32.887105</td>\n",
       "    </tr>\n",
       "    <tr>\n",
       "      <th>424</th>\n",
       "      <td>34.370327</td>\n",
       "    </tr>\n",
       "    <tr>\n",
       "      <th>154</th>\n",
       "      <td>36.139662</td>\n",
       "    </tr>\n",
       "    <tr>\n",
       "      <th>190</th>\n",
       "      <td>34.713317</td>\n",
       "    </tr>\n",
       "    <tr>\n",
       "      <th>131</th>\n",
       "      <td>32.439770</td>\n",
       "    </tr>\n",
       "    <tr>\n",
       "      <th>...</th>\n",
       "      <td>...</td>\n",
       "    </tr>\n",
       "    <tr>\n",
       "      <th>12</th>\n",
       "      <td>29.532429</td>\n",
       "    </tr>\n",
       "    <tr>\n",
       "      <th>97</th>\n",
       "      <td>34.183821</td>\n",
       "    </tr>\n",
       "    <tr>\n",
       "      <th>130</th>\n",
       "      <td>33.700400</td>\n",
       "    </tr>\n",
       "    <tr>\n",
       "      <th>472</th>\n",
       "      <td>33.665990</td>\n",
       "    </tr>\n",
       "    <tr>\n",
       "      <th>315</th>\n",
       "      <td>34.501418</td>\n",
       "    </tr>\n",
       "  </tbody>\n",
       "</table>\n",
       "<p>150 rows × 1 columns</p>\n",
       "</div>"
      ],
      "text/plain": [
       "     Avg. Session Length\n",
       "151            32.887105\n",
       "424            34.370327\n",
       "154            36.139662\n",
       "190            34.713317\n",
       "131            32.439770\n",
       "..                   ...\n",
       "12             29.532429\n",
       "97             34.183821\n",
       "130            33.700400\n",
       "472            33.665990\n",
       "315            34.501418\n",
       "\n",
       "[150 rows x 1 columns]"
      ]
     },
     "execution_count": 26,
     "metadata": {},
     "output_type": "execute_result"
    }
   ],
   "source": [
    "x_test"
   ]
  },
  {
   "cell_type": "code",
   "execution_count": 27,
   "id": "e0ba7cc3",
   "metadata": {},
   "outputs": [
    {
     "data": {
      "text/plain": [
       "151    684.163431\n",
       "424    491.911505\n",
       "154    595.803819\n",
       "190    612.385230\n",
       "131    573.306222\n",
       "          ...    \n",
       "12     408.640351\n",
       "97     614.715334\n",
       "130    552.940345\n",
       "472    469.383146\n",
       "315    584.105885\n",
       "Name: Yearly Amount Spent, Length: 150, dtype: float64"
      ]
     },
     "execution_count": 27,
     "metadata": {},
     "output_type": "execute_result"
    }
   ],
   "source": [
    "y_test\n"
   ]
  },
  {
   "cell_type": "code",
   "execution_count": 49,
   "id": "360b6143",
   "metadata": {},
   "outputs": [
    {
     "data": {
      "text/plain": [
       "[array([494.60130461]),\n",
       " array([536.68739989]),\n",
       " array([586.89188708]),\n",
       " array([546.41964713]),\n",
       " array([481.90829387]),\n",
       " array([504.85599088]),\n",
       " array([541.93547091]),\n",
       " array([504.54823191]),\n",
       " array([543.29826951]),\n",
       " array([459.6352176]),\n",
       " array([513.47063251]),\n",
       " array([483.90723236]),\n",
       " array([502.18162772]),\n",
       " array([461.95701187]),\n",
       " array([474.81671448]),\n",
       " array([534.07467468]),\n",
       " array([494.79640886]),\n",
       " array([490.05226004]),\n",
       " array([510.84627706]),\n",
       " array([495.06522324]),\n",
       " array([530.16308623]),\n",
       " array([468.50265324]),\n",
       " array([517.69215073]),\n",
       " array([489.10042669]),\n",
       " array([537.12701721]),\n",
       " array([491.32715017]),\n",
       " array([479.40302572]),\n",
       " array([523.18990013]),\n",
       " array([437.63553922]),\n",
       " array([478.01478872]),\n",
       " array([457.234461]),\n",
       " array([440.2514462]),\n",
       " array([497.82879273]),\n",
       " array([508.28578375]),\n",
       " array([483.57170298]),\n",
       " array([478.86841433]),\n",
       " array([484.49207743]),\n",
       " array([524.07390211]),\n",
       " array([486.67901402]),\n",
       " array([477.14354644]),\n",
       " array([477.62077115]),\n",
       " array([578.96323915]),\n",
       " array([495.85637168]),\n",
       " array([503.24046427]),\n",
       " array([540.58109805]),\n",
       " array([515.28406947]),\n",
       " array([502.69453954]),\n",
       " array([536.79894109]),\n",
       " array([523.05655625]),\n",
       " array([506.95557772]),\n",
       " array([497.73258416]),\n",
       " array([498.55435583]),\n",
       " array([497.59395055]),\n",
       " array([466.73025677]),\n",
       " array([497.1007887]),\n",
       " array([469.77894532]),\n",
       " array([523.58500868]),\n",
       " array([490.40292512]),\n",
       " array([468.15032112]),\n",
       " array([502.22262773]),\n",
       " array([481.50897648]),\n",
       " array([480.38972162]),\n",
       " array([480.24168293]),\n",
       " array([444.68966907]),\n",
       " array([510.06915108]),\n",
       " array([513.10993196]),\n",
       " array([470.78664309]),\n",
       " array([535.22894782]),\n",
       " array([495.60878241]),\n",
       " array([535.68115922]),\n",
       " array([528.55338191]),\n",
       " array([520.83743353]),\n",
       " array([522.76836173]),\n",
       " array([501.27775585]),\n",
       " array([470.04268124]),\n",
       " array([448.45093843]),\n",
       " array([523.73965361]),\n",
       " array([509.10522418]),\n",
       " array([472.90198685]),\n",
       " array([531.72695045]),\n",
       " array([523.8766771]),\n",
       " array([485.05097907]),\n",
       " array([468.18995228]),\n",
       " array([488.5872681]),\n",
       " array([509.69562416]),\n",
       " array([467.33789951]),\n",
       " array([517.52224578]),\n",
       " array([499.97636468]),\n",
       " array([525.96870912]),\n",
       " array([543.03466874]),\n",
       " array([539.86710512]),\n",
       " array([527.50279827]),\n",
       " array([512.09720326]),\n",
       " array([572.45455902]),\n",
       " array([508.75706748]),\n",
       " array([505.07814452]),\n",
       " array([500.87869774]),\n",
       " array([492.70602032]),\n",
       " array([486.37483479]),\n",
       " array([549.30443733]),\n",
       " array([506.39293884]),\n",
       " array([471.23950406]),\n",
       " array([506.44016609]),\n",
       " array([468.76254098]),\n",
       " array([486.71816882]),\n",
       " array([493.20493697]),\n",
       " array([519.94145353]),\n",
       " array([555.61685954]),\n",
       " array([539.27482977]),\n",
       " array([481.65257127]),\n",
       " array([484.560476]),\n",
       " array([511.58119625]),\n",
       " array([477.93233335]),\n",
       " array([541.02001665]),\n",
       " array([495.10035438]),\n",
       " array([501.89729104]),\n",
       " array([513.1619987]),\n",
       " array([513.87826521]),\n",
       " array([527.62505751]),\n",
       " array([435.83987889]),\n",
       " array([449.82841354]),\n",
       " array([471.6700333]),\n",
       " array([521.25223303]),\n",
       " array([497.23801747]),\n",
       " array([531.86971465]),\n",
       " array([511.40958107]),\n",
       " array([509.43614376]),\n",
       " array([484.66077839]),\n",
       " array([515.54763454]),\n",
       " array([502.179387]),\n",
       " array([477.46346574]),\n",
       " array([513.59682386]),\n",
       " array([520.36617185]),\n",
       " array([506.56033319]),\n",
       " array([455.66071191]),\n",
       " array([476.8065956]),\n",
       " array([473.65947195]),\n",
       " array([472.73274057]),\n",
       " array([481.02268051]),\n",
       " array([488.0797594]),\n",
       " array([497.53793439]),\n",
       " array([488.9582622]),\n",
       " array([493.98337387]),\n",
       " array([500.03826729]),\n",
       " array([565.10612426]),\n",
       " array([399.41315199]),\n",
       " array([531.39532002]),\n",
       " array([517.67838664]),\n",
       " array([516.70200696]),\n",
       " array([540.40707145])]"
      ]
     },
     "execution_count": 49,
     "metadata": {},
     "output_type": "execute_result"
    }
   ],
   "source": [
    "pred3=[]\n",
    "for i in x_test.values:\n",
    "    y=m*i+b\n",
    "    pred3.append(y)\n",
    "pred3"
   ]
  },
  {
   "cell_type": "code",
   "execution_count": 51,
   "id": "a838d5e9",
   "metadata": {},
   "outputs": [
    {
     "name": "stdout",
     "output_type": "stream",
     "text": [
      "MEA: 0.0\n",
      "MSE: 0.0\n",
      "RMSE: 0.0\n"
     ]
    }
   ],
   "source": [
    "from sklearn import metrics\n",
    "print(\"MEA:\",metrics.mean_absolute_error(pred,pred3))\n",
    "print(\"MSE:\",metrics.mean_squared_error(pred,pred3))\n",
    "print(\"RMSE:\",np.sqrt(metrics.mean_squared_error(pred,pred3)))"
   ]
  }
 ],
 "metadata": {
  "kernelspec": {
   "display_name": "Python 3 (ipykernel)",
   "language": "python",
   "name": "python3"
  },
  "language_info": {
   "codemirror_mode": {
    "name": "ipython",
    "version": 3
   },
   "file_extension": ".py",
   "mimetype": "text/x-python",
   "name": "python",
   "nbconvert_exporter": "python",
   "pygments_lexer": "ipython3",
   "version": "3.11.7"
  }
 },
 "nbformat": 4,
 "nbformat_minor": 5
}
