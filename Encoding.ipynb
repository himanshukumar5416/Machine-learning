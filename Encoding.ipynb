{
 "cells": [
  {
   "cell_type": "code",
   "execution_count": 9,
   "id": "cbcfff3a",
   "metadata": {},
   "outputs": [
    {
     "name": "stdout",
     "output_type": "stream",
     "text": [
      "original Dataset:\n",
      "  Experience_Level Satisfaction  Hours_Worked Performance\n",
      "0         Beginner          Low            40     Average\n",
      "1         Advanced         High            50        Good\n",
      "2     Intermediate       Medium            45        Good\n",
      "3         Beginner       Medium            30        Poor\n",
      "4         Advanced          Low            60     Average\n"
     ]
    }
   ],
   "source": [
    "from sklearn.preprocessing import OrdinalEncoder,LabelEncoder\n",
    "import pandas as pd\n",
    "\n",
    "# sample dataset\n",
    "\n",
    "data = {'Experience_Level':['Beginner',\"Advanced\",'Intermediate','Beginner','Advanced'],'Satisfaction':['Low','High','Medium','Medium','Low'],\n",
    "       'Hours_Worked':[40,50,45,30,60],\n",
    "       'Performance':['Average','Good','Good','Poor','Average']}\n",
    "# create DataFrame\n",
    "df = pd.DataFrame(data)\n",
    "\n",
    "# Display the original dataset\n",
    "print('original Dataset:')\n",
    "print(df)"
   ]
  },
  {
   "cell_type": "code",
   "execution_count": 10,
   "id": "c98415d0",
   "metadata": {},
   "outputs": [
    {
     "name": "stdout",
     "output_type": "stream",
     "text": [
      "\n",
      "Transformed Dataset:\n",
      "   Experience_Level  Satisfaction  Hours_Worked Performance  performance\n",
      "0               0.0           0.0            40     Average            0\n",
      "1               2.0           2.0            50        Good            1\n",
      "2               1.0           1.0            45        Good            1\n",
      "3               0.0           1.0            30        Poor            2\n",
      "4               2.0           0.0            60     Average            0\n"
     ]
    }
   ],
   "source": [
    "# Initialize OrdinalEncoder for input features\n",
    "ordinal_encoder = OrdinalEncoder(categories=[['Beginner','Intermediate','Advanced'], # Experience_level Order\n",
    "                                            ['Low','Medium','High']])\n",
    "\n",
    "# Apply Ordinal Encoding to the input features\n",
    "df[['Experience_Level','Satisfaction']] = ordinal_encoder.fit_transform(df[['Experience_Level','Satisfaction']])\n",
    "\n",
    "# Initialize LabelEncoder for the output feature\n",
    "label_encoder = LabelEncoder()\n",
    "\n",
    "# Apply label Encoding to the output feature 'performance'\n",
    "df['performance'] = label_encoder.fit_transform(df['Performance'])\n",
    "\n",
    "# Display the transformed dataset\n",
    "print('\\nTransformed Dataset:')\n",
    "print(df)"
   ]
  },
  {
   "cell_type": "code",
   "execution_count": null,
   "id": "0ebbbec6",
   "metadata": {},
   "outputs": [],
   "source": []
  }
 ],
 "metadata": {
  "kernelspec": {
   "display_name": "Python 3 (ipykernel)",
   "language": "python",
   "name": "python3"
  },
  "language_info": {
   "codemirror_mode": {
    "name": "ipython",
    "version": 3
   },
   "file_extension": ".py",
   "mimetype": "text/x-python",
   "name": "python",
   "nbconvert_exporter": "python",
   "pygments_lexer": "ipython3",
   "version": "3.11.7"
  }
 },
 "nbformat": 4,
 "nbformat_minor": 5
}
